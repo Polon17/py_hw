{
 "cells": [
  {
   "cell_type": "markdown",
   "id": "85755de8",
   "metadata": {},
   "source": [
    "# Самостоятельное задание #5\n",
    "\n",
    "\n",
    "### Задание 1\n",
    "\n",
    "Допишите функцию, которая принимает список, выбирает из него все элементы с четным индексом и возвращает их в виде списка."
   ]
  },
  {
   "cell_type": "code",
   "execution_count": 11,
   "id": "6ef6d9b3",
   "metadata": {},
   "outputs": [
    {
     "name": "stdout",
     "output_type": "stream",
     "text": [
      "1 2 3 4 5 6\n",
      "[1, 3, 5]\n"
     ]
    }
   ],
   "source": [
    "a=[int(i) for i in input().split()]\n",
    "a1=[]\n",
    "for i in range(len(a)):\n",
    "    if i%2 == 0:\n",
    "        a1.append(a[i])\n",
    "print(a1)"
   ]
  },
  {
   "cell_type": "markdown",
   "id": "443974c9",
   "metadata": {},
   "source": [
    "### Задание 2\n",
    "\n",
    "Допишите функцию, которая принимает список, выбирает из него все элементы, которые больше предыдущего и возвращает их в виде списка.\n"
   ]
  },
  {
   "cell_type": "code",
   "execution_count": 9,
   "id": "3a8cf925",
   "metadata": {},
   "outputs": [
    {
     "name": "stdout",
     "output_type": "stream",
     "text": [
      "8 7 6 5 4 3 2 1\n",
      "[8]\n"
     ]
    }
   ],
   "source": [
    "b=[int(i) for i in input().split()]\n",
    "b1=[]\n",
    "for i in range(len(b)):\n",
    "    if b[i] > b[i-1]:\n",
    "        b1.append(b[i])\n",
    "print(b1)"
   ]
  },
  {
   "cell_type": "markdown",
   "id": "34524ede",
   "metadata": {},
   "source": [
    "### Задание 3\n",
    "\n",
    "Допишите функцию, которая принимает список, меняет местами наибольший и наименьший элементы и возвращает этот список."
   ]
  },
  {
   "cell_type": "code",
   "execution_count": 10,
   "id": "34d2beae",
   "metadata": {},
   "outputs": [
    {
     "name": "stdout",
     "output_type": "stream",
     "text": [
      "27 2 4 82 7 1\n",
      "27 2 4 1 7 82\n"
     ]
    }
   ],
   "source": [
    "c = [int(s) for s in input().split()]\n",
    "index_of_min = 0\n",
    "index_of_max = 0\n",
    "for i in range(1, len(c)):\n",
    "    if c[i] > c[index_of_max]:\n",
    "        index_of_max = i\n",
    "    if c[i] < c[index_of_min]:\n",
    "        index_of_min = i\n",
    "c[index_of_min], c[index_of_max] = c[index_of_max], c[index_of_min]\n",
    "print(' '.join([str(i) for i in c]))\n"
   ]
  }
 ],
 "metadata": {
  "kernelspec": {
   "display_name": "Python 3",
   "language": "python",
   "name": "python3"
  },
  "language_info": {
   "codemirror_mode": {
    "name": "ipython",
    "version": 3
   },
   "file_extension": ".py",
   "mimetype": "text/x-python",
   "name": "python",
   "nbconvert_exporter": "python",
   "pygments_lexer": "ipython3",
   "version": "3.8.8"
  }
 },
 "nbformat": 4,
 "nbformat_minor": 5
}
